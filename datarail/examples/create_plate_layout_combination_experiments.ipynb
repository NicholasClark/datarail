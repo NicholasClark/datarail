{
 "cells": [
  {
   "cell_type": "code",
   "execution_count": 1,
   "metadata": {
    "collapsed": true
   },
   "outputs": [],
   "source": [
    "from datarail.experimental_design import process_assay as pa"
   ]
  },
  {
   "cell_type": "markdown",
   "metadata": {},
   "source": [
    "The input file (see **`input_file_combo.csv`**) should be broad description of the planned experimental design and should contain the following columns<br>\n",
    ">__agent__ : lists the names of drugs. Combinations are to specified  as comma seperated strings. For example - 'agent1, agent2'<br>\n",
    "**max_dose__um** : lists the highest dose for each agent.<br>\n",
    "__num_doses__ : lists the number of doses for each agent.<br>\n",
    "__role__ : lists the intended role for each agent\n",
    "   `'treatment', or 'positive_control'`<br>\n",
    "__num_replicates__ : lists number of times the dosing schme of a drug (or a combination) is replicated on the same plate.<br>\n",
    "__equivalent__ :  0 if the combination should comprise of the full cartesian product. 1 if only equivalent doses make up the combination<br>"
   ]
  },
  {
   "cell_type": "code",
   "execution_count": 2,
   "metadata": {
    "collapsed": false
   },
   "outputs": [
    {
     "name": "stderr",
     "output_type": "stream",
     "text": [
      "/Users/kartik/subkar_repos/datarail/datarail/experimental_design/process_assay.py:174: UserWarning: Experimental design does not have positive_controls\n",
      "  'Experimental design does not have positive_controls')\n"
     ]
    }
   ],
   "source": [
    "dfw = pa.construct_well_level_df('input_file_combo.csv')\n",
    "dfw = pa.add_negative_control(dfw)"
   ]
  },
  {
   "cell_type": "code",
   "execution_count": 3,
   "metadata": {
    "collapsed": true
   },
   "outputs": [],
   "source": [
    "plate_names = ['combo1', 'combo2', 'combo3']"
   ]
  },
  {
   "cell_type": "code",
   "execution_count": 4,
   "metadata": {
    "collapsed": true
   },
   "outputs": [],
   "source": [
    "dfr = pa.randomize_wells(dfw, plate_names)"
   ]
  }
 ],
 "metadata": {
  "kernelspec": {
   "display_name": "Python 3",
   "language": "python",
   "name": "python3"
  },
  "language_info": {
   "codemirror_mode": {
    "name": "ipython",
    "version": 3
   },
   "file_extension": ".py",
   "mimetype": "text/x-python",
   "name": "python",
   "nbconvert_exporter": "python",
   "pygments_lexer": "ipython3",
   "version": "3.6.4"
  }
 },
 "nbformat": 4,
 "nbformat_minor": 0
}
