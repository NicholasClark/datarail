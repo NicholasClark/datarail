{
 "cells": [
  {
   "cell_type": "code",
   "execution_count": null,
   "metadata": {
    "collapsed": true
   },
   "outputs": [],
   "source": [
    "import pandas as pd\n",
    "from datarail.experimental_design import process_assay as pa\n",
    "from datarail.experimental_design import plot_plate_layout as ppl\n",
    "%matplotlib tk"
   ]
  },
  {
   "cell_type": "markdown",
   "metadata": {},
   "source": [
    "The input file (see **`input_file_combo.csv`**) should be broad description of the drugs and their concentrations and should contain the following columns<br>\n",
    ">__agent__ : lists the names of drugs. Combinations are to specified  as comma seperated strings. For example - 'agent1, agent2'<br>\n",
    "**max_dose__um** : lists the highest dose for each agent.<br>\n",
    "__num_doses__ : lists the number of doses for each agent.<br>\n",
    "__role__ : lists the intended role for each agent\n",
    "   `'treatment', or 'positive_control'`<br>\n",
    "__num_replicates__ : lists number of times the dosing schme of a drug (or a combination) is replicated on the same plate.<br>\n",
    "__equivalent__ :  0 if the combination should comprise of the full cartesian product. 1 if only equivalent doses make up the combination<br>\n",
    "\n",
    "The plate level file (see **`combo_plate_id.csv`**) should provide a description of plate level metadata. It should contain the following columns<br>\n",
    ">__barcode__: list of barcodes (plate identifiers)<br>\n",
    "__cell_line__: name of cell lines in each plate (comma seperated names) <br>\n",
    "__timepoint__: time point corresponding to each plate. Set to `time0_ctrl` for plate that should be used as time 0 control. <br>\n",
    "__randomization_scheme__: seed to be used for randomization. Set to 0 if plate is not to be randomized <br>\n",
    "__well_level_input__: names of .csv well level input file <br>\n"
   ]
  },
  {
   "cell_type": "code",
   "execution_count": null,
   "metadata": {
    "collapsed": false
   },
   "outputs": [],
   "source": [
    "# Read in the plate level metadata file\n",
    "dfp = pd.read_csv('combo_plate_id.csv')"
   ]
  },
  {
   "cell_type": "code",
   "execution_count": null,
   "metadata": {
    "collapsed": false
   },
   "outputs": [],
   "source": [
    "# Construct and design file\n",
    "dfr = pa.randomize_wells(dfp)\n",
    "dfr.to_csv('combo_design_layout.csv', index=False)"
   ]
  },
  {
   "cell_type": "code",
   "execution_count": null,
   "metadata": {
    "collapsed": false
   },
   "outputs": [],
   "source": [
    "# Plot and visualize layout of plates\n",
    "ppl.plot_summary(dfr, 'combo_design_layout.pdf')"
   ]
  },
  {
   "cell_type": "code",
   "execution_count": null,
   "metadata": {
    "collapsed": true
   },
   "outputs": [],
   "source": []
  }
 ],
 "metadata": {
  "kernelspec": {
   "display_name": "Python 3",
   "language": "python",
   "name": "python3"
  },
  "language_info": {
   "codemirror_mode": {
    "name": "ipython",
    "version": 3
   },
   "file_extension": ".py",
   "mimetype": "text/x-python",
   "name": "python",
   "nbconvert_exporter": "python",
   "pygments_lexer": "ipython3",
   "version": "3.6.4"
  }
 },
 "nbformat": 4,
 "nbformat_minor": 0
}
