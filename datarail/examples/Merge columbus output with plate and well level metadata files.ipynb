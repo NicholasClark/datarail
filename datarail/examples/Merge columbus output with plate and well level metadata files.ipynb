{
 "cells": [
  {
   "cell_type": "code",
   "execution_count": 11,
   "metadata": {
    "collapsed": true
   },
   "outputs": [],
   "source": [
    "from datarail.experimental_design import merge_data_metadata as mdm\n",
    "import pandas as pd\n",
    "import gr50"
   ]
  },
  {
   "cell_type": "markdown",
   "metadata": {},
   "source": [
    "Load columbus output, metadata and plate info files. Ensure that column heading are as shown in the below example input files"
   ]
  },
  {
   "cell_type": "code",
   "execution_count": 21,
   "metadata": {
    "collapsed": false
   },
   "outputs": [
    {
     "data": {
      "text/html": [
       "<div>\n",
       "<style scoped>\n",
       "    .dataframe tbody tr th:only-of-type {\n",
       "        vertical-align: middle;\n",
       "    }\n",
       "\n",
       "    .dataframe tbody tr th {\n",
       "        vertical-align: top;\n",
       "    }\n",
       "\n",
       "    .dataframe thead th {\n",
       "        text-align: right;\n",
       "    }\n",
       "</style>\n",
       "<table border=\"1\" class=\"dataframe\">\n",
       "  <thead>\n",
       "    <tr style=\"text-align: right;\">\n",
       "      <th></th>\n",
       "      <th>barcode</th>\n",
       "      <th>date</th>\n",
       "      <th>Row</th>\n",
       "      <th>Column</th>\n",
       "      <th>well</th>\n",
       "      <th>cell_count__total</th>\n",
       "      <th>corpse_count</th>\n",
       "      <th>cell_count__dead</th>\n",
       "      <th>cell_count</th>\n",
       "    </tr>\n",
       "  </thead>\n",
       "  <tbody>\n",
       "    <tr>\n",
       "      <th>0</th>\n",
       "      <td>MH1_01</td>\n",
       "      <td>2016-06-06 12:34:56</td>\n",
       "      <td>3</td>\n",
       "      <td>3</td>\n",
       "      <td>C03</td>\n",
       "      <td>511.0</td>\n",
       "      <td>32.0</td>\n",
       "      <td>12.0</td>\n",
       "      <td>499.0</td>\n",
       "    </tr>\n",
       "    <tr>\n",
       "      <th>1</th>\n",
       "      <td>MH1_01</td>\n",
       "      <td>2016-06-06 12:34:56</td>\n",
       "      <td>3</td>\n",
       "      <td>4</td>\n",
       "      <td>C04</td>\n",
       "      <td>511.0</td>\n",
       "      <td>30.0</td>\n",
       "      <td>12.0</td>\n",
       "      <td>499.0</td>\n",
       "    </tr>\n",
       "    <tr>\n",
       "      <th>2</th>\n",
       "      <td>MH1_01</td>\n",
       "      <td>2016-06-06 12:34:56</td>\n",
       "      <td>3</td>\n",
       "      <td>5</td>\n",
       "      <td>C05</td>\n",
       "      <td>526.0</td>\n",
       "      <td>32.0</td>\n",
       "      <td>12.0</td>\n",
       "      <td>514.0</td>\n",
       "    </tr>\n",
       "    <tr>\n",
       "      <th>3</th>\n",
       "      <td>MH1_01</td>\n",
       "      <td>2016-06-06 12:34:56</td>\n",
       "      <td>3</td>\n",
       "      <td>6</td>\n",
       "      <td>C06</td>\n",
       "      <td>494.0</td>\n",
       "      <td>38.0</td>\n",
       "      <td>15.0</td>\n",
       "      <td>479.0</td>\n",
       "    </tr>\n",
       "    <tr>\n",
       "      <th>4</th>\n",
       "      <td>MH1_01</td>\n",
       "      <td>2016-06-06 12:34:56</td>\n",
       "      <td>3</td>\n",
       "      <td>7</td>\n",
       "      <td>C07</td>\n",
       "      <td>507.0</td>\n",
       "      <td>29.0</td>\n",
       "      <td>13.0</td>\n",
       "      <td>494.0</td>\n",
       "    </tr>\n",
       "  </tbody>\n",
       "</table>\n",
       "</div>"
      ],
      "text/plain": [
       "  barcode                 date  Row  Column well  cell_count__total  \\\n",
       "0  MH1_01  2016-06-06 12:34:56    3       3  C03              511.0   \n",
       "1  MH1_01  2016-06-06 12:34:56    3       4  C04              511.0   \n",
       "2  MH1_01  2016-06-06 12:34:56    3       5  C05              526.0   \n",
       "3  MH1_01  2016-06-06 12:34:56    3       6  C06              494.0   \n",
       "4  MH1_01  2016-06-06 12:34:56    3       7  C07              507.0   \n",
       "\n",
       "   corpse_count  cell_count__dead  cell_count  \n",
       "0          32.0              12.0       499.0  \n",
       "1          30.0              12.0       499.0  \n",
       "2          32.0              12.0       514.0  \n",
       "3          38.0              15.0       479.0  \n",
       "4          29.0              13.0       494.0  "
      ]
     },
     "execution_count": 21,
     "metadata": {},
     "output_type": "execute_result"
    }
   ],
   "source": [
    "dfo = pd.read_table('columbus_output.tsv')\n",
    "dfo.head()\n"
   ]
  },
  {
   "cell_type": "code",
   "execution_count": 22,
   "metadata": {
    "collapsed": false
   },
   "outputs": [
    {
     "data": {
      "text/html": [
       "<div>\n",
       "<style scoped>\n",
       "    .dataframe tbody tr th:only-of-type {\n",
       "        vertical-align: middle;\n",
       "    }\n",
       "\n",
       "    .dataframe tbody tr th {\n",
       "        vertical-align: top;\n",
       "    }\n",
       "\n",
       "    .dataframe thead th {\n",
       "        text-align: right;\n",
       "    }\n",
       "</style>\n",
       "<table border=\"1\" class=\"dataframe\">\n",
       "  <thead>\n",
       "    <tr style=\"text-align: right;\">\n",
       "      <th></th>\n",
       "      <th>agent</th>\n",
       "      <th>concentration</th>\n",
       "      <th>role</th>\n",
       "      <th>well</th>\n",
       "      <th>plate</th>\n",
       "    </tr>\n",
       "  </thead>\n",
       "  <tbody>\n",
       "    <tr>\n",
       "      <th>0</th>\n",
       "      <td>D_8</td>\n",
       "      <td>0.010000</td>\n",
       "      <td>treatment</td>\n",
       "      <td>C03</td>\n",
       "      <td>schema1</td>\n",
       "    </tr>\n",
       "    <tr>\n",
       "      <th>1</th>\n",
       "      <td>D_3</td>\n",
       "      <td>10.000000</td>\n",
       "      <td>treatment</td>\n",
       "      <td>C04</td>\n",
       "      <td>schema1</td>\n",
       "    </tr>\n",
       "    <tr>\n",
       "      <th>2</th>\n",
       "      <td>D_6</td>\n",
       "      <td>0.031623</td>\n",
       "      <td>treatment</td>\n",
       "      <td>C05</td>\n",
       "      <td>schema1</td>\n",
       "    </tr>\n",
       "    <tr>\n",
       "      <th>3</th>\n",
       "      <td>D_2</td>\n",
       "      <td>0.003162</td>\n",
       "      <td>treatment</td>\n",
       "      <td>C06</td>\n",
       "      <td>schema1</td>\n",
       "    </tr>\n",
       "    <tr>\n",
       "      <th>4</th>\n",
       "      <td>D_8</td>\n",
       "      <td>3.162278</td>\n",
       "      <td>treatment</td>\n",
       "      <td>C07</td>\n",
       "      <td>schema1</td>\n",
       "    </tr>\n",
       "  </tbody>\n",
       "</table>\n",
       "</div>"
      ],
      "text/plain": [
       "  agent  concentration       role well    plate\n",
       "0   D_8       0.010000  treatment  C03  schema1\n",
       "1   D_3      10.000000  treatment  C04  schema1\n",
       "2   D_6       0.031623  treatment  C05  schema1\n",
       "3   D_2       0.003162  treatment  C06  schema1\n",
       "4   D_8       3.162278  treatment  C07  schema1"
      ]
     },
     "execution_count": 22,
     "metadata": {},
     "output_type": "execute_result"
    }
   ],
   "source": [
    "dfm = pd.read_csv('metadata.csv')\n",
    "dfm.head()"
   ]
  },
  {
   "cell_type": "code",
   "execution_count": 23,
   "metadata": {
    "collapsed": false
   },
   "outputs": [
    {
     "data": {
      "text/plain": [
       "array(['time0_Ctrl', 'schema1', 'schema2', 'schema3'], dtype=object)"
      ]
     },
     "execution_count": 23,
     "metadata": {},
     "output_type": "execute_result"
    }
   ],
   "source": [
    "dfp = pd.read_csv('plate_info.csv')\n",
    "dfp.head()\n",
    "dfp.plate.unique()"
   ]
  },
  {
   "cell_type": "markdown",
   "metadata": {},
   "source": [
    "Merge data and plate level metadata file into a single dataframe"
   ]
  },
  {
   "cell_type": "code",
   "execution_count": 24,
   "metadata": {
    "collapsed": false
   },
   "outputs": [],
   "source": [
    "dfcp = mdm.merge_plate_level_metadata(dfo, dfp)"
   ]
  },
  {
   "cell_type": "markdown",
   "metadata": {},
   "source": [
    "Merge well level metadata file"
   ]
  },
  {
   "cell_type": "code",
   "execution_count": 26,
   "metadata": {
    "collapsed": false
   },
   "outputs": [
    {
     "data": {
      "text/html": [
       "<div>\n",
       "<style scoped>\n",
       "    .dataframe tbody tr th:only-of-type {\n",
       "        vertical-align: middle;\n",
       "    }\n",
       "\n",
       "    .dataframe tbody tr th {\n",
       "        vertical-align: top;\n",
       "    }\n",
       "\n",
       "    .dataframe thead th {\n",
       "        text-align: right;\n",
       "    }\n",
       "</style>\n",
       "<table border=\"1\" class=\"dataframe\">\n",
       "  <thead>\n",
       "    <tr style=\"text-align: right;\">\n",
       "      <th></th>\n",
       "      <th>barcode</th>\n",
       "      <th>date</th>\n",
       "      <th>Row</th>\n",
       "      <th>Column</th>\n",
       "      <th>well</th>\n",
       "      <th>cell_count__total</th>\n",
       "      <th>corpse_count</th>\n",
       "      <th>cell_count__dead</th>\n",
       "      <th>cell_count</th>\n",
       "      <th>cell_line</th>\n",
       "      <th>timepoint</th>\n",
       "      <th>plate</th>\n",
       "      <th>agent</th>\n",
       "      <th>concentration</th>\n",
       "      <th>role</th>\n",
       "      <th>well</th>\n",
       "    </tr>\n",
       "  </thead>\n",
       "  <tbody>\n",
       "    <tr>\n",
       "      <th>time0_Ctrl_C03</th>\n",
       "      <td>MH1_01</td>\n",
       "      <td>2016-06-06 12:34:56</td>\n",
       "      <td>3.0</td>\n",
       "      <td>3.0</td>\n",
       "      <td>C03</td>\n",
       "      <td>511.0</td>\n",
       "      <td>32.0</td>\n",
       "      <td>12.0</td>\n",
       "      <td>499.0</td>\n",
       "      <td>CL_1</td>\n",
       "      <td>0.0</td>\n",
       "      <td>time0_Ctrl</td>\n",
       "      <td>NaN</td>\n",
       "      <td>NaN</td>\n",
       "      <td>NaN</td>\n",
       "      <td>NaN</td>\n",
       "    </tr>\n",
       "    <tr>\n",
       "      <th>time0_Ctrl_C04</th>\n",
       "      <td>MH1_01</td>\n",
       "      <td>2016-06-06 12:34:56</td>\n",
       "      <td>3.0</td>\n",
       "      <td>4.0</td>\n",
       "      <td>C04</td>\n",
       "      <td>511.0</td>\n",
       "      <td>30.0</td>\n",
       "      <td>12.0</td>\n",
       "      <td>499.0</td>\n",
       "      <td>CL_1</td>\n",
       "      <td>0.0</td>\n",
       "      <td>time0_Ctrl</td>\n",
       "      <td>NaN</td>\n",
       "      <td>NaN</td>\n",
       "      <td>NaN</td>\n",
       "      <td>NaN</td>\n",
       "    </tr>\n",
       "    <tr>\n",
       "      <th>time0_Ctrl_C05</th>\n",
       "      <td>MH1_01</td>\n",
       "      <td>2016-06-06 12:34:56</td>\n",
       "      <td>3.0</td>\n",
       "      <td>5.0</td>\n",
       "      <td>C05</td>\n",
       "      <td>526.0</td>\n",
       "      <td>32.0</td>\n",
       "      <td>12.0</td>\n",
       "      <td>514.0</td>\n",
       "      <td>CL_1</td>\n",
       "      <td>0.0</td>\n",
       "      <td>time0_Ctrl</td>\n",
       "      <td>NaN</td>\n",
       "      <td>NaN</td>\n",
       "      <td>NaN</td>\n",
       "      <td>NaN</td>\n",
       "    </tr>\n",
       "    <tr>\n",
       "      <th>time0_Ctrl_C06</th>\n",
       "      <td>MH1_01</td>\n",
       "      <td>2016-06-06 12:34:56</td>\n",
       "      <td>3.0</td>\n",
       "      <td>6.0</td>\n",
       "      <td>C06</td>\n",
       "      <td>494.0</td>\n",
       "      <td>38.0</td>\n",
       "      <td>15.0</td>\n",
       "      <td>479.0</td>\n",
       "      <td>CL_1</td>\n",
       "      <td>0.0</td>\n",
       "      <td>time0_Ctrl</td>\n",
       "      <td>NaN</td>\n",
       "      <td>NaN</td>\n",
       "      <td>NaN</td>\n",
       "      <td>NaN</td>\n",
       "    </tr>\n",
       "    <tr>\n",
       "      <th>time0_Ctrl_C07</th>\n",
       "      <td>MH1_01</td>\n",
       "      <td>2016-06-06 12:34:56</td>\n",
       "      <td>3.0</td>\n",
       "      <td>7.0</td>\n",
       "      <td>C07</td>\n",
       "      <td>507.0</td>\n",
       "      <td>29.0</td>\n",
       "      <td>13.0</td>\n",
       "      <td>494.0</td>\n",
       "      <td>CL_1</td>\n",
       "      <td>0.0</td>\n",
       "      <td>time0_Ctrl</td>\n",
       "      <td>NaN</td>\n",
       "      <td>NaN</td>\n",
       "      <td>NaN</td>\n",
       "      <td>NaN</td>\n",
       "    </tr>\n",
       "  </tbody>\n",
       "</table>\n",
       "</div>"
      ],
      "text/plain": [
       "               barcode                 date  Row  Column well  \\\n",
       "time0_Ctrl_C03  MH1_01  2016-06-06 12:34:56  3.0     3.0  C03   \n",
       "time0_Ctrl_C04  MH1_01  2016-06-06 12:34:56  3.0     4.0  C04   \n",
       "time0_Ctrl_C05  MH1_01  2016-06-06 12:34:56  3.0     5.0  C05   \n",
       "time0_Ctrl_C06  MH1_01  2016-06-06 12:34:56  3.0     6.0  C06   \n",
       "time0_Ctrl_C07  MH1_01  2016-06-06 12:34:56  3.0     7.0  C07   \n",
       "\n",
       "                cell_count__total  corpse_count  cell_count__dead  cell_count  \\\n",
       "time0_Ctrl_C03              511.0          32.0              12.0       499.0   \n",
       "time0_Ctrl_C04              511.0          30.0              12.0       499.0   \n",
       "time0_Ctrl_C05              526.0          32.0              12.0       514.0   \n",
       "time0_Ctrl_C06              494.0          38.0              15.0       479.0   \n",
       "time0_Ctrl_C07              507.0          29.0              13.0       494.0   \n",
       "\n",
       "               cell_line  timepoint       plate agent  concentration role well  \n",
       "time0_Ctrl_C03      CL_1        0.0  time0_Ctrl   NaN            NaN  NaN  NaN  \n",
       "time0_Ctrl_C04      CL_1        0.0  time0_Ctrl   NaN            NaN  NaN  NaN  \n",
       "time0_Ctrl_C05      CL_1        0.0  time0_Ctrl   NaN            NaN  NaN  NaN  \n",
       "time0_Ctrl_C06      CL_1        0.0  time0_Ctrl   NaN            NaN  NaN  NaN  \n",
       "time0_Ctrl_C07      CL_1        0.0  time0_Ctrl   NaN            NaN  NaN  NaN  "
      ]
     },
     "execution_count": 26,
     "metadata": {},
     "output_type": "execute_result"
    }
   ],
   "source": [
    "dfcw = mdm.merge_well_level_metadata(dfcp, dfm)\n",
    "dfcw.head()"
   ]
  },
  {
   "cell_type": "markdown",
   "metadata": {},
   "source": [
    "Generate counts file in the format required by the GR calculator"
   ]
  },
  {
   "cell_type": "code",
   "execution_count": 27,
   "metadata": {
    "collapsed": true
   },
   "outputs": [],
   "source": [
    "df_counts = mdm.generate_GRinput(dfcw)"
   ]
  },
  {
   "cell_type": "markdown",
   "metadata": {},
   "source": [
    "Compute GRvalue"
   ]
  },
  {
   "cell_type": "code",
   "execution_count": 28,
   "metadata": {
    "collapsed": true
   },
   "outputs": [],
   "source": [
    "df_grv = gr50.compute_gr(df_counts)"
   ]
  },
  {
   "cell_type": "markdown",
   "metadata": {},
   "source": [
    "Compute summary GR metrics"
   ]
  },
  {
   "cell_type": "code",
   "execution_count": 29,
   "metadata": {
    "collapsed": false
   },
   "outputs": [],
   "source": [
    "df_grmetrics = gr50.gr_metrics(df_grv)"
   ]
  },
  {
   "cell_type": "code",
   "execution_count": null,
   "metadata": {
    "collapsed": true
   },
   "outputs": [],
   "source": []
  }
 ],
 "metadata": {
  "kernelspec": {
   "display_name": "Python 3",
   "language": "python",
   "name": "python3"
  }
 },
 "nbformat": 4,
 "nbformat_minor": 0
}
