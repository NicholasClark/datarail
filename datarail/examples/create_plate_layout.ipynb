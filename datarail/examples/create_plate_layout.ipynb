{
 "cells": [
  {
   "cell_type": "markdown",
   "metadata": {},
   "source": [
    "The example script below demonstrates how a randomized plate layout \n",
    "can be generated from an initial description (see input_file.csv) of the experiment "
   ]
  },
  {
   "cell_type": "code",
   "execution_count": 1,
   "metadata": {
    "collapsed": false
   },
   "outputs": [],
   "source": [
    "import pandas as pd\n",
    "from datarail.experimental_design import process_assay as pa\n",
    "from datarail.experimental_design import hpdd_utils as hu"
   ]
  },
  {
   "cell_type": "code",
   "execution_count": 2,
   "metadata": {
    "collapsed": true
   },
   "outputs": [],
   "source": [
    "# construct mapping between wells and treatment conditions\n",
    "df_well = pa.construct_well_level_df('input_file.csv')\n",
    "df_well = pa.add_dmso_control(df_well)"
   ]
  },
  {
   "cell_type": "code",
   "execution_count": 3,
   "metadata": {
    "collapsed": true
   },
   "outputs": [],
   "source": [
    "# define drug and dose to be used as harsh treatment for plate barcode\n",
    "fingerprint_drug = 'Staurosporine'\n",
    "fingerprint_dose = 1"
   ]
  },
  {
   "cell_type": "code",
   "execution_count": 4,
   "metadata": {
    "collapsed": true
   },
   "outputs": [],
   "source": [
    "# create randomized plate layout for 3 replicates\n",
    "plate_names = ['RL_A', 'RL_B', 'RL_C']"
   ]
  },
  {
   "cell_type": "code",
   "execution_count": 5,
   "metadata": {
    "collapsed": true
   },
   "outputs": [],
   "source": [
    "dfr = pa.randomize_wells(df_well, fingerprints=plate_names,\n",
    "                         fingerprint_drug=fingerprint_drug,\n",
    "                         fingerprint_dose=fingerprint_dose)"
   ]
  },
  {
   "cell_type": "code",
   "execution_count": 6,
   "metadata": {
    "collapsed": false
   },
   "outputs": [
    {
     "data": {
      "text/html": [
       "<div>\n",
       "<style scoped>\n",
       "    .dataframe tbody tr th:only-of-type {\n",
       "        vertical-align: middle;\n",
       "    }\n",
       "\n",
       "    .dataframe tbody tr th {\n",
       "        vertical-align: top;\n",
       "    }\n",
       "\n",
       "    .dataframe thead th {\n",
       "        text-align: right;\n",
       "    }\n",
       "</style>\n",
       "<table border=\"1\" class=\"dataframe\">\n",
       "  <thead>\n",
       "    <tr style=\"text-align: right;\">\n",
       "      <th></th>\n",
       "      <th>agent</th>\n",
       "      <th>concentration</th>\n",
       "      <th>identifier</th>\n",
       "      <th>plate</th>\n",
       "      <th>role</th>\n",
       "      <th>well</th>\n",
       "    </tr>\n",
       "  </thead>\n",
       "  <tbody>\n",
       "    <tr>\n",
       "      <th>0</th>\n",
       "      <td>Staurosporine</td>\n",
       "      <td>1.0</td>\n",
       "      <td>Staurosporine_0</td>\n",
       "      <td>RL_A</td>\n",
       "      <td>fingerprint</td>\n",
       "      <td>A01</td>\n",
       "    </tr>\n",
       "    <tr>\n",
       "      <th>1</th>\n",
       "      <td>Staurosporine</td>\n",
       "      <td>1.0</td>\n",
       "      <td>Staurosporine_1</td>\n",
       "      <td>RL_A</td>\n",
       "      <td>fingerprint</td>\n",
       "      <td>A02</td>\n",
       "    </tr>\n",
       "    <tr>\n",
       "      <th>2</th>\n",
       "      <td></td>\n",
       "      <td>0.0</td>\n",
       "      <td>0</td>\n",
       "      <td>RL_A</td>\n",
       "      <td></td>\n",
       "      <td>A03</td>\n",
       "    </tr>\n",
       "    <tr>\n",
       "      <th>3</th>\n",
       "      <td></td>\n",
       "      <td>0.0</td>\n",
       "      <td>0</td>\n",
       "      <td>RL_A</td>\n",
       "      <td></td>\n",
       "      <td>A04</td>\n",
       "    </tr>\n",
       "    <tr>\n",
       "      <th>4</th>\n",
       "      <td>Staurosporine</td>\n",
       "      <td>1.0</td>\n",
       "      <td>Staurosporine_2</td>\n",
       "      <td>RL_A</td>\n",
       "      <td>fingerprint</td>\n",
       "      <td>A05</td>\n",
       "    </tr>\n",
       "  </tbody>\n",
       "</table>\n",
       "</div>"
      ],
      "text/plain": [
       "           agent  concentration       identifier plate         role well\n",
       "0  Staurosporine            1.0  Staurosporine_0  RL_A  fingerprint  A01\n",
       "1  Staurosporine            1.0  Staurosporine_1  RL_A  fingerprint  A02\n",
       "2                           0.0                0  RL_A               A03\n",
       "3                           0.0                0  RL_A               A04\n",
       "4  Staurosporine            1.0  Staurosporine_2  RL_A  fingerprint  A05"
      ]
     },
     "execution_count": 6,
     "metadata": {},
     "output_type": "execute_result"
    }
   ],
   "source": [
    "dfr.head()\n"
   ]
  },
  {
   "cell_type": "code",
   "execution_count": 7,
   "metadata": {
    "collapsed": true
   },
   "outputs": [],
   "source": [
    "# load a file (see drug_stock.csv) with name of the agents and the corresponding stock concentrations\n",
    "# The name of the agents in the file should match those in design dataframe"
   ]
  },
  {
   "cell_type": "code",
   "execution_count": 8,
   "metadata": {
    "collapsed": false
   },
   "outputs": [],
   "source": [
    "df_stock = pd.read_csv('drug_stock.csv')\n"
   ]
  },
  {
   "cell_type": "code",
   "execution_count": 9,
   "metadata": {
    "collapsed": true
   },
   "outputs": [],
   "source": [
    "# If the D300 is going to be used, run the code below to generate the hpdd file"
   ]
  },
  {
   "cell_type": "code",
   "execution_count": 10,
   "metadata": {
    "collapsed": false
   },
   "outputs": [],
   "source": [
    "hu.export_hpdd(dfr, df_stock, 'RL_D300.hpdd')"
   ]
  },
  {
   "cell_type": "code",
   "execution_count": null,
   "metadata": {
    "collapsed": true
   },
   "outputs": [],
   "source": []
  }
 ],
 "metadata": {
  "kernelspec": {
   "display_name": "Python 3",
   "language": "python",
   "name": "python3"
  },
  "language_info": {
   "codemirror_mode": {
    "name": "ipython",
    "version": 3
   },
   "file_extension": ".py",
   "mimetype": "text/x-python",
   "name": "python",
   "nbconvert_exporter": "python",
   "pygments_lexer": "ipython3",
   "version": "3.6.4"
  }
 },
 "nbformat": 4,
 "nbformat_minor": 0
}
