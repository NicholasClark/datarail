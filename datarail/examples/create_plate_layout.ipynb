{
 "cells": [
  {
   "cell_type": "markdown",
   "metadata": {},
   "source": [
    "### The example script below demonstrates how a randomized plate layout can be generated from an initial description (see input_file.csv) of the experiment "
   ]
  },
  {
   "cell_type": "code",
   "execution_count": 1,
   "metadata": {
    "collapsed": false
   },
   "outputs": [],
   "source": [
    "import pandas as pd\n",
    "from datarail.experimental_design import process_assay as pa\n",
    "from datarail.experimental_design import hpdd_utils as hu"
   ]
  },
  {
   "cell_type": "markdown",
   "metadata": {},
   "source": [
    "The input file (see **`input_file.csv`**) should be broad description of the planned experimental design and should contain the following columns<br>\n",
    ">__agent__ : lists the names of drugs, including positve controls.<br>\n",
    "**max_dose__um** : lists the highest dose for each agent.<br>\n",
    "__num_doses__ : lists the number of doses for each agent.<br>\n",
    "__role__ : lists the intended role for each agent\n",
    "   `'treatment', or 'positive_control'`<br>\n",
    "__num_replicates__ : lists number of times a drug's\n",
    "   dosing scheme is replicated on the same plate.<br>\n",
    "__exlcude_doses__ :  list doses (comma seperated) to be excluded for a given drug (**OPTIONAL**; defaults to removing lowest doses if num_doses < 9).<br>\n",
    "\n"
   ]
  },
  {
   "cell_type": "code",
   "execution_count": 2,
   "metadata": {
    "collapsed": false
   },
   "outputs": [],
   "source": [
    "# construct mapping between wells and treatment conditions\n",
    "df_well = pa.construct_well_level_df('input_file.csv')\n",
    "df_well = pa.add_negative_control(df_well, control_name='DMSO')"
   ]
  },
  {
   "cell_type": "code",
   "execution_count": 10,
   "metadata": {
    "collapsed": true
   },
   "outputs": [],
   "source": [
    "# define drug and dose to be used as harsh treatment for plate barcode (OPTIONAL)\n",
    "fingerprint_drug = 'Staurosporine'\n",
    "fingerprint_dose = 1 # in micromolar"
   ]
  },
  {
   "cell_type": "code",
   "execution_count": 11,
   "metadata": {
    "collapsed": true
   },
   "outputs": [],
   "source": [
    "# create randomized plate layout for 3 replicates\n",
    "plate_names = ['RL_A', 'RL_B', 'RL_C']"
   ]
  },
  {
   "cell_type": "code",
   "execution_count": 8,
   "metadata": {
    "collapsed": true
   },
   "outputs": [],
   "source": [
    "dfr = pa.randomize_wells(df_well, plate_names=plate_names,\n",
    "                         fingerprint_drug=fingerprint_drug, # optional\n",
    "                         fingerprint_dose=fingerprint_dose) # optional"
   ]
  },
  {
   "cell_type": "code",
   "execution_count": 9,
   "metadata": {
    "collapsed": false
   },
   "outputs": [
    {
     "data": {
      "text/html": [
       "<div>\n",
       "<style scoped>\n",
       "    .dataframe tbody tr th:only-of-type {\n",
       "        vertical-align: middle;\n",
       "    }\n",
       "\n",
       "    .dataframe tbody tr th {\n",
       "        vertical-align: top;\n",
       "    }\n",
       "\n",
       "    .dataframe thead th {\n",
       "        text-align: right;\n",
       "    }\n",
       "</style>\n",
       "<table border=\"1\" class=\"dataframe\">\n",
       "  <thead>\n",
       "    <tr style=\"text-align: right;\">\n",
       "      <th></th>\n",
       "      <th>agent</th>\n",
       "      <th>concentration</th>\n",
       "      <th>identifier</th>\n",
       "      <th>plate</th>\n",
       "      <th>role</th>\n",
       "      <th>well</th>\n",
       "    </tr>\n",
       "  </thead>\n",
       "  <tbody>\n",
       "    <tr>\n",
       "      <th>0</th>\n",
       "      <td>Staurosporine</td>\n",
       "      <td>1.0</td>\n",
       "      <td>Staurosporine_0</td>\n",
       "      <td>RL_A</td>\n",
       "      <td>fingerprint</td>\n",
       "      <td>A01</td>\n",
       "    </tr>\n",
       "    <tr>\n",
       "      <th>1</th>\n",
       "      <td>Staurosporine</td>\n",
       "      <td>1.0</td>\n",
       "      <td>Staurosporine_1</td>\n",
       "      <td>RL_A</td>\n",
       "      <td>fingerprint</td>\n",
       "      <td>A02</td>\n",
       "    </tr>\n",
       "    <tr>\n",
       "      <th>2</th>\n",
       "      <td></td>\n",
       "      <td>0.0</td>\n",
       "      <td>0</td>\n",
       "      <td>RL_A</td>\n",
       "      <td></td>\n",
       "      <td>A03</td>\n",
       "    </tr>\n",
       "    <tr>\n",
       "      <th>3</th>\n",
       "      <td></td>\n",
       "      <td>0.0</td>\n",
       "      <td>0</td>\n",
       "      <td>RL_A</td>\n",
       "      <td></td>\n",
       "      <td>A04</td>\n",
       "    </tr>\n",
       "    <tr>\n",
       "      <th>4</th>\n",
       "      <td>Staurosporine</td>\n",
       "      <td>1.0</td>\n",
       "      <td>Staurosporine_2</td>\n",
       "      <td>RL_A</td>\n",
       "      <td>fingerprint</td>\n",
       "      <td>A05</td>\n",
       "    </tr>\n",
       "  </tbody>\n",
       "</table>\n",
       "</div>"
      ],
      "text/plain": [
       "           agent  concentration       identifier plate         role well\n",
       "0  Staurosporine            1.0  Staurosporine_0  RL_A  fingerprint  A01\n",
       "1  Staurosporine            1.0  Staurosporine_1  RL_A  fingerprint  A02\n",
       "2                           0.0                0  RL_A               A03\n",
       "3                           0.0                0  RL_A               A04\n",
       "4  Staurosporine            1.0  Staurosporine_2  RL_A  fingerprint  A05"
      ]
     },
     "execution_count": 9,
     "metadata": {},
     "output_type": "execute_result"
    }
   ],
   "source": [
    "dfr.head()\n"
   ]
  },
  {
   "cell_type": "code",
   "execution_count": 12,
   "metadata": {
    "collapsed": true
   },
   "outputs": [],
   "source": [
    "# load a file (see drug_stock.csv) with name of the agents and the corresponding stock concentrations\n",
    "# The name of the agents in the file should match those in design dataframe\n",
    "df_stock = pd.read_csv('drug_stock.csv')"
   ]
  },
  {
   "cell_type": "code",
   "execution_count": null,
   "metadata": {
    "collapsed": true
   },
   "outputs": [],
   "source": [
    "# If the D300 is going to be used, run the code below to generate the hpdd file\n",
    "hu.export_hpdd(dfr, df_stock, 'RL_D300.hpdd')"
   ]
  }
 ],
 "metadata": {
  "kernelspec": {
   "display_name": "Python 3",
   "language": "python",
   "name": "python3"
  },
  "language_info": {
   "codemirror_mode": {
    "name": "ipython",
    "version": 3
   },
   "file_extension": ".py",
   "mimetype": "text/x-python",
   "name": "python",
   "nbconvert_exporter": "python",
   "pygments_lexer": "ipython3",
   "version": "3.6.4"
  }
 },
 "nbformat": 4,
 "nbformat_minor": 0
}
